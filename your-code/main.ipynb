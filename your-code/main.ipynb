{
 "cells": [
  {
   "cell_type": "markdown",
   "metadata": {},
   "source": [
    "## I couldn't access de json file from Zalando (as many people in class), that's why I decided to work with the Weather API we didn't have time to work with in class (Alberto suggested to do this otherwise)"
   ]
  },
  {
   "cell_type": "code",
   "execution_count": null,
   "metadata": {},
   "outputs": [],
   "source": [
    "import json\n",
    "import requests\n",
    "import pandas as pd\n",
    "from pandas.io.json import json_normalize"
   ]
  },
  {
   "cell_type": "code",
   "execution_count": null,
   "metadata": {},
   "outputs": [],
   "source": [
    "municipios_url = \"https://www.el-tiempo.net/api/json/v2/municipios\"\n",
    "resp_mun = requests.get(municipios_url)\n",
    "mun_dic = resp_mun.json()"
   ]
  },
  {
   "cell_type": "code",
   "execution_count": null,
   "metadata": {},
   "outputs": [],
   "source": [
    "codigos_municipios = pd.json_normalize(mun_dic) #sacamos un data frame con la info de los municipios, para luego poder pasar el código de provincia y de municipio a nuestra clase más abajo. "
   ]
  },
  {
   "cell_type": "code",
   "execution_count": null,
   "metadata": {},
   "outputs": [],
   "source": [
    "#creamos una clase, con sus clientes\n",
    "\n",
    "class Tiempo():\n",
    "    def __init__(self, url = \"https://www.el-tiempo.net/api/json/v2/\",codigo_provincia = \"08\", codigo_municipio = \"08096\"):\n",
    "        self.resp = requests.get(f'{url}provincias/{codigo_provincia}/municipios/{codigo_municipio}').json()\n",
    "    def info_municipio(self): #esta función nos da info general de los municipios \n",
    "        d = self.resp\n",
    "        for k, v in d.items():\n",
    "            if k == 'municipio':\n",
    "                print(f'La ciudad es {v[\"NOMBRE\"]}, tiene una población de {v[\"POBLACION_CAPITAL\"]} habitantes y pertenece a la provicincia de {v[\"NOMBRE_PROVINCIA\"]}')\n",
    "            if k == 'temperaturas':\n",
    "                print(f'La temperatura máxima es {v[\"max\"]} y la mínima {v[\"min\"]}')\n",
    "            if k == \"stateSky\":\n",
    "                print(f'La descripción del día es: {v[\"description\"]}')\n",
    "        print(f'La temperatura actual es {d[\"temperatura_actual\"]} grados')\n",
    "        print(f'La fecha actual es: {d[\"fecha\"]}')\n",
    "        print(f'La humedad es del {d[\"humedad\"]}%')\n",
    "        print(f'El viento es de {d[\"viento\"]}km/h')\n",
    "        print(f'La lluvia es del {d[\"lluvia\"]}%')\n",
    "    \n",
    "    def temp_media(self): #esta nos da la temperatura media de hoy y mañana para un municipio en concreto \n",
    "        d = self.resp\n",
    "        for k, v in d.items():\n",
    "            if k == \"pronostico\":\n",
    "                for x, y in v.items():\n",
    "                    if x == \"hoy\":\n",
    "                        temperatura_media = sum(list(map(int,(y[\"temperatura\"]))))/len(list(map(int,(y[\"temperatura\"]))))\n",
    "                        print(f'La temperatura media de hoy es {round(temperatura_media,2)}')\n",
    "                    elif x == \"manana\":\n",
    "                        temperatura_media = sum(list(map(int,(y[\"temperatura\"]))))/len(list(map(int,(y[\"temperatura\"]))))\n",
    "                        print(f'La temperatura media de mañana es {round(temperatura_media,2)}')\n",
    "    \n",
    "    def llovera_mañana(self): #esta nos dice si es probable que llueva mañaba o no \n",
    "        d = self.resp\n",
    "        for k, v in d.items():\n",
    "            if k == \"pronostico\":\n",
    "                for x, y in v.items():\n",
    "                    if x == \"manana\":\n",
    "                        prob_precip = sum(list(map(int,(y[\"prob_precipitacion\"]))))/len(list(map(int,(y[\"prob_precipitacion\"]))))\n",
    "                        if prob_precip <= 50:\n",
    "                            print(\"Probablemente no llueva mañana\")\n",
    "                        else:\n",
    "                            print(\"Probablemente lloverá mañana\")\n",
    "                            "
   ]
  },
  {
   "cell_type": "code",
   "execution_count": null,
   "metadata": {},
   "outputs": [],
   "source": [
    "Tiempo().info_municipio() #por defecto he puesto Granollers"
   ]
  },
  {
   "cell_type": "code",
   "execution_count": null,
   "metadata": {},
   "outputs": [],
   "source": [
    "Tiempo(codigo_provincia = \"28\", codigo_municipio = \"28096\").info_municipio()"
   ]
  },
  {
   "cell_type": "code",
   "execution_count": null,
   "metadata": {},
   "outputs": [],
   "source": [
    "Tiempo(codigo_provincia = \"28\", codigo_municipio = \"28096\").temp_media()"
   ]
  },
  {
   "cell_type": "code",
   "execution_count": null,
   "metadata": {},
   "outputs": [],
   "source": [
    "Tiempo(codigo_provincia = \"28\", codigo_municipio = \"28096\").llovera_mañana()"
   ]
  }
 ],
 "metadata": {
  "kernelspec": {
   "display_name": "Python 3",
   "language": "python",
   "name": "python3"
  },
  "language_info": {
   "codemirror_mode": {
    "name": "ipython",
    "version": 3
   },
   "file_extension": ".py",
   "mimetype": "text/x-python",
   "name": "python",
   "nbconvert_exporter": "python",
   "pygments_lexer": "ipython3",
   "version": "3.8.5"
  },
  "toc": {
   "base_numbering": 1,
   "nav_menu": {},
   "number_sections": true,
   "sideBar": true,
   "skip_h1_title": false,
   "title_cell": "Table of Contents",
   "title_sidebar": "Contents",
   "toc_cell": false,
   "toc_position": {},
   "toc_section_display": true,
   "toc_window_display": false
  },
  "varInspector": {
   "cols": {
    "lenName": 16,
    "lenType": 16,
    "lenVar": 40
   },
   "kernels_config": {
    "python": {
     "delete_cmd_postfix": "",
     "delete_cmd_prefix": "del ",
     "library": "var_list.py",
     "varRefreshCmd": "print(var_dic_list())"
    },
    "r": {
     "delete_cmd_postfix": ") ",
     "delete_cmd_prefix": "rm(",
     "library": "var_list.r",
     "varRefreshCmd": "cat(var_dic_list()) "
    }
   },
   "types_to_exclude": [
    "module",
    "function",
    "builtin_function_or_method",
    "instance",
    "_Feature"
   ],
   "window_display": false
  }
 },
 "nbformat": 4,
 "nbformat_minor": 2
}
